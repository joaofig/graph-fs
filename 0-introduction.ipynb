{
 "cells": [
  {
   "cell_type": "code",
   "execution_count": 1,
   "metadata": {},
   "outputs": [],
   "source": [
    "import numpy as np\n",
    "import networkx as nx\n",
    "import matplotlib.pyplot as plt"
   ]
  },
  {
   "cell_type": "code",
   "execution_count": null,
   "metadata": {},
   "outputs": [],
   "source": []
  },
  {
   "cell_type": "code",
   "execution_count": 2,
   "metadata": {},
   "outputs": [],
   "source": [
    "def reverse_edges(edges):\n",
    "    return [(e[1], e[0], e[2]) for e in edges]"
   ]
  },
  {
   "cell_type": "code",
   "execution_count": 3,
   "metadata": {},
   "outputs": [],
   "source": [
    "def reverse_target_edges(edges, target):\n",
    "    edge_list = []\n",
    "    for e in edges:\n",
    "        if target == e[1] or target == e[0]:\n",
    "            edge_list.append((e[1], e[0], e[2]))\n",
    "        else:\n",
    "            edge_list.append(e)\n",
    "    return edge_list"
   ]
  },
  {
   "cell_type": "code",
   "execution_count": 4,
   "metadata": {},
   "outputs": [],
   "source": [
    "edge_list = [\n",
    "    ('A', 'B', 0.8),\n",
    "    ('A', 'Y', 0.9),\n",
    "\n",
    "    ('B', 'A', 0.2),\n",
    "    ('B', 'Y', 0.9),\n",
    "    \n",
    "    ('Y', 'A', 1e-5),\n",
    "    ('Y', 'B', 1e-5),\n",
    "]"
   ]
  },
  {
   "cell_type": "code",
   "execution_count": 5,
   "metadata": {},
   "outputs": [
    {
     "data": {
      "text/plain": [
       "[('A', 'B', 0.8),\n",
       " ('Y', 'A', 0.9),\n",
       " ('B', 'A', 0.2),\n",
       " ('Y', 'B', 0.9),\n",
       " ('A', 'Y', 1e-05),\n",
       " ('B', 'Y', 1e-05)]"
      ]
     },
     "execution_count": 5,
     "metadata": {},
     "output_type": "execute_result"
    }
   ],
   "source": [
    "reverse_target_edges(edge_list, target='Y')"
   ]
  },
  {
   "cell_type": "code",
   "execution_count": 6,
   "metadata": {},
   "outputs": [],
   "source": [
    "g0 = nx.DiGraph()"
   ]
  },
  {
   "cell_type": "code",
   "execution_count": 7,
   "metadata": {},
   "outputs": [],
   "source": [
    "g0.add_weighted_edges_from(reverse_target_edges(edge_list, target='Y'))"
   ]
  },
  {
   "cell_type": "code",
   "execution_count": null,
   "metadata": {},
   "outputs": [],
   "source": []
  },
  {
   "cell_type": "code",
   "execution_count": 8,
   "metadata": {},
   "outputs": [],
   "source": [
    "page_rank = nx.pagerank_numpy(g0, weight='weight')"
   ]
  },
  {
   "cell_type": "code",
   "execution_count": 9,
   "metadata": {},
   "outputs": [
    {
     "data": {
      "text/plain": [
       "{'A': 0.47498329186346877, 'B': 0.474991475373741, 'Y': 0.050025232762790084}"
      ]
     },
     "execution_count": 9,
     "metadata": {},
     "output_type": "execute_result"
    }
   ],
   "source": [
    "page_rank"
   ]
  },
  {
   "cell_type": "code",
   "execution_count": null,
   "metadata": {},
   "outputs": [],
   "source": []
  },
  {
   "cell_type": "code",
   "execution_count": null,
   "metadata": {},
   "outputs": [],
   "source": [
    "edge_list = [\n",
    "    ('A', 'B', 0.9),\n",
    "    ('A', 'C', 0.3),\n",
    "    ('A', 'D', 0.5), \n",
    "    ('A', 'Y', 0.5),\n",
    "\n",
    "    ('B', 'A', 0.7),\n",
    "    ('B', 'C', 0.3),\n",
    "    ('B', 'D', 0.3),\n",
    "    ('B', 'Y', 0.9),\n",
    "\n",
    "    ('C', 'A', 0.2),\n",
    "    ('C', 'B', 0.1),\n",
    "    ('C', 'D', 0.1),\n",
    "    ('C', 'Y', 0.7),\n",
    "\n",
    "    ('D', 'C', 0.2),\n",
    "    ('D', 'B', 0.1),\n",
    "    ('D', 'A', 0.3),\n",
    "    ('D', 'Y', 0.6),\n",
    "    \n",
    "    ('Y', 'A', 1e-5),\n",
    "    ('Y', 'B', 1e-5),\n",
    "    ('Y', 'C', 1e-5),\n",
    "    ('Y', 'D', 1e-5),    \n",
    "]"
   ]
  },
  {
   "cell_type": "code",
   "execution_count": null,
   "metadata": {},
   "outputs": [],
   "source": [
    "g1 = nx.DiGraph()\n",
    "g1.add_weighted_edges_from(reverse_target_edges(edge_list, target='Y'))"
   ]
  },
  {
   "cell_type": "code",
   "execution_count": null,
   "metadata": {},
   "outputs": [],
   "source": [
    "page_rank = nx.pagerank_numpy(g1, weight='weight')\n",
    "page_rank"
   ]
  },
  {
   "cell_type": "code",
   "execution_count": null,
   "metadata": {},
   "outputs": [],
   "source": []
  }
 ],
 "metadata": {
  "kernelspec": {
   "display_name": "Python 3",
   "language": "python",
   "name": "python3"
  },
  "language_info": {
   "codemirror_mode": {
    "name": "ipython",
    "version": 3
   },
   "file_extension": ".py",
   "mimetype": "text/x-python",
   "name": "python",
   "nbconvert_exporter": "python",
   "pygments_lexer": "ipython3",
   "version": "3.8.2"
  }
 },
 "nbformat": 4,
 "nbformat_minor": 4
}
